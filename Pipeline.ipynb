{
  "nbformat": 4,
  "nbformat_minor": 0,
  "metadata": {
    "colab": {
      "provenance": [],
      "authorship_tag": "ABX9TyNqmU+mCUr1O6kicJzbMQ3h",
      "include_colab_link": true
    },
    "kernelspec": {
      "name": "python3",
      "display_name": "Python 3"
    },
    "language_info": {
      "name": "python"
    }
  },
  "cells": [
    {
      "cell_type": "markdown",
      "metadata": {
        "id": "view-in-github",
        "colab_type": "text"
      },
      "source": [
        "<a href=\"https://colab.research.google.com/github/RicardoCorcini/ProjetosdeEstudo/blob/main/Pipeline.ipynb\" target=\"_parent\"><img src=\"https://colab.research.google.com/assets/colab-badge.svg\" alt=\"Open In Colab\"/></a>"
      ]
    },
    {
      "cell_type": "code",
      "execution_count": null,
      "metadata": {
        "id": "0TKnot-LsE1E"
      },
      "outputs": [],
      "source": [
        "#instalar apache beam\n"
      ]
    },
    {
      "cell_type": "markdown",
      "source": [
        "Instalar e reiniciar o colab - Reiniciar ambiente de execução"
      ],
      "metadata": {
        "id": "ONwySQKTvSXW"
      }
    },
    {
      "cell_type": "code",
      "source": [
        "pip install apache-beam[interactive]"
      ],
      "metadata": {
        "id": "dAUinggQu3Uv"
      },
      "execution_count": null,
      "outputs": []
    },
    {
      "cell_type": "code",
      "source": [
        "pip install apache-beam[gcp]"
      ],
      "metadata": {
        "id": "nMdGjvIzRZVa"
      },
      "execution_count": null,
      "outputs": []
    },
    {
      "cell_type": "markdown",
      "source": [
        "Reiniciar ambiente de instalação"
      ],
      "metadata": {
        "id": "5FuoIcNkvcVu"
      }
    },
    {
      "cell_type": "code",
      "source": [
        "#PipelineOptions,\n",
        "import apache_beam as beam\n",
        "\n",
        "import os\n",
        "from apache_beam.options.pipeline_options import PipelineOptions\n",
        "\n",
        "pipeline_options = {\n",
        "    'project': 'modular-ethos-349116',  # ide do projeto do gcp\n",
        "    'runner':'DataflowRunner',\n",
        "    'region': 'southamerica-east1',\n",
        "    'staging_location': 'gs://ricardocorcini/staging',\n",
        "    'temp_location':'gs://ricardocorcini/staging',\n",
        "    'tamplate_location':'gs://ricardocorcini/staging/models/modelo_bach_voos',\n",
        "}\n",
        "\n",
        "serviceAccount = r'/content/modular-ethos-349116-0a65fe05e380.json'\n",
        "os.environ[\"GOOGLE_APPLICATION_CREDENTIALS\"] = serviceAccount\n",
        "\n",
        "p1 = beam.Pipeline()\n",
        "#guardar link\n",
        "#https://console.cloud.google.com/flows/enableapi?apiid=dataflow,compute_component,logging,storage_component,storage_api,bigquery,pubsub,datastore.googleapis.com,cloudresourcemanager.googleapis.com&_ga=2.189426155.1983962144.1622827940-955197899.1622719217&_gac=1.221249130.1622828282.Cj0KCQjwnueFBhChARIsAPu3YkSUzoSQn7RE14ObAE51mBY111345EEps_OAYCDz3smm2mLh2zjZ__8aAq9dEALw_wcB&wdLOR=cFAD8FEBF-3295-4A46-A7CC-2BD1857695D0"
      ],
      "metadata": {
        "id": "DSZWd3mxvI3O"
      },
      "execution_count": null,
      "outputs": []
    },
    {
      "cell_type": "markdown",
      "source": [
        "##Comandos basico"
      ],
      "metadata": {
        "id": "XaYv2duwvshV"
      }
    },
    {
      "cell_type": "code",
      "source": [
        "import apache_beam as beam"
      ],
      "metadata": {
        "id": "k1HHo3pGvlxm"
      },
      "execution_count": null,
      "outputs": []
    },
    {
      "cell_type": "code",
      "source": [
        "p1 = beam.Pipeline()\n",
        "voos = (\n",
        "    p1\n",
        "    | 'Leitura do dataser' >> beam.io.ReadFromText('/content/voos1.csv', skip_header_lines=0) # \"O\" com vabeçaho de coluna\n",
        "    | 'Separar por virgula, ou indicar o separador ' >> beam.Map(lambda record: record.split(','))\n",
        "    | 'Exibir o resultado ' >> beam.Map(print)\n",
        ")\n",
        "p1.run()"
      ],
      "metadata": {
        "id": "PUFQnyCzwDd-"
      },
      "execution_count": null,
      "outputs": []
    },
    {
      "cell_type": "markdown",
      "source": [
        "##Verificação"
      ],
      "metadata": {
        "id": "K0smn2kd6YBK"
      }
    },
    {
      "cell_type": "code",
      "source": [
        "p1 = beam.Pipeline()\n",
        "voos = (\n",
        "    p1\n",
        "    | 'Leitura do dataser' >> beam.io.ReadFromText('/content/voos1.csv', skip_header_lines=1) # \"1\" sem cabeçalho\n",
        "    | 'Separar por virgula, ou indicar o separador ' >> beam.Map(lambda record: record.split(','))\n",
        "    | 'Filtrar por companhia' >> beam.Filter(lambda record: record[0] == 'AA') #função anonima procura no indice '0'(lista de coluna) mostra o restuado ca cia AA \n",
        "    | 'Exibir o resultado ' >> beam.Map(print)\n",
        ")\n",
        "p1.run()"
      ],
      "metadata": {
        "id": "_iGvb4D_6V26"
      },
      "execution_count": null,
      "outputs": []
    },
    {
      "cell_type": "code",
      "source": [
        "p1 = beam.Pipeline()\n",
        "voos = (\n",
        "    p1\n",
        "    | 'Leitura do dataser' >> beam.io.ReadFromText('/content/voos1.csv', skip_header_lines=1) # \"1\" sem cabeçalho\n",
        "    | 'Separar por virgula, ou indicar o separador ' >> beam.Map(lambda record: record.split(','))\n",
        "    | 'Filtrar por companhia' >> beam.Filter(lambda record: record[1] == 'LAX') #função anonima procura no indice '1'(lista de coluna) mostra o restuado ca cia LAX \n",
        "    | 'Exibir o resultado ' >> beam.Map(print)\n",
        ")\n",
        "p1.run()"
      ],
      "metadata": {
        "id": "Kp5wotIq8mk5"
      },
      "execution_count": null,
      "outputs": []
    },
    {
      "cell_type": "code",
      "source": [
        "p1 = beam.Pipeline()\n",
        "voos = (\n",
        "    p1\n",
        "    | 'Leitura do dataser' >> beam.io.ReadFromText('/content/voos1.csv', skip_header_lines=1) # \"1\" sem cabeçalho\n",
        "    | 'Separar por virgula, ou indicar o separador ' >> beam.Map(lambda record: record.split(','))\n",
        "    | 'Filtrar por companhia' >> beam.Filter(lambda record: record[2] == 'CLT')  #função anonima procura no indice '1'(lista de coluna) mostra o restuado ca cia LAX \n",
        "    #| 'Filtrar por companhia' >> beam.Filter(lambda record: record[2] == 'CLT') 1\n",
        "    #| beam.Filter(lambda record: record[1] == 'LAX')  1 Condicional OUnas linas 1\n",
        "    #| 'Exibir o resultado ' >> beam.Map(print)\n",
        "    | 'Salvar resultado' >>beam.io.WriteToText('saida.txt')\n",
        ")\n",
        "p1.run()"
      ],
      "metadata": {
        "id": "_4DePMeh8j6y"
      },
      "execution_count": null,
      "outputs": []
    },
    {
      "cell_type": "code",
      "source": [
        "p1 = beam.Pipeline()\n",
        "voos = (\n",
        "    p1\n",
        "    | 'Leitura do dataser' >> beam.io.ReadFromText('/content/voos1.csv', skip_header_lines=1) # \"1\" sem cabeçalho\n",
        "    | 'Separar por virgula, ou indicar o separador ' >> beam.Map(lambda record: record.split(','))\n",
        "    | 'Filtar partidas atrasadas' >> beam.Filter(lambda record: int(record[5]) > 0) \n",
        "    #| 'Filtrar por companhia' >> beam.Filter(lambda record: record[2] == 'CLT')  #função anonima procura no indice '1'(lista de coluna) mostra o restuado ca cia LAX \n",
        "    | 'Exibir o resultado ' >> beam.Map(print)\n",
        "    #| 'Salvar resultado' >>beam.io.WriteToText('saida.txt')\n",
        ")\n",
        "p1.run()"
      ],
      "metadata": {
        "id": "y_MU2kSXBnzI"
      },
      "execution_count": null,
      "outputs": []
    },
    {
      "cell_type": "code",
      "source": [
        "p1 = beam.Pipeline()\n",
        "voos = (\n",
        "    p1\n",
        "    | 'Leitura do dataser' >> beam.io.ReadFromText('/content/voos1.csv', skip_header_lines=1) # \"1\" sem cabeçalho\n",
        "    | 'Separar por virgula, ou indicar o separador ' >> beam.Map(lambda record: record.split(','))\n",
        "    | 'Filtar partidas atrasadas' >> beam.Filter(lambda record: int(record[5]) > 0) \n",
        "    | 'Agregar as colunas' >> beam.Map(lambda record:(record[0],int(record[5])))\n",
        "    |'Cosntruir nova tabela' >> beam.CombinePerKey(sum)\n",
        "    #| 'Filtrar por companhia' >> beam.Filter(lambda record: record[2] == 'CLT')  #função anonima procura no indice '1'(lista de coluna) mostra o restuado ca cia LAX \n",
        "    | 'Exibir o resultado ' >> beam.Map(print)\n",
        "    #| 'Salvar resultado' >>beam.io.WriteToText('saida.txt')\n",
        ")\n",
        "p1.run()"
      ],
      "metadata": {
        "id": "L4XsKdv9HJ3t"
      },
      "execution_count": null,
      "outputs": []
    },
    {
      "cell_type": "code",
      "source": [
        "p1 = beam.Pipeline()\n",
        "voos = (\n",
        "    p1\n",
        "    | 'Leitura do dataser' >> beam.io.ReadFromText('/content/voos1.csv', skip_header_lines=1) # \"1\" sem cabeçalho\n",
        "    | 'Separar por virgula, ou indicar o separador ' >> beam.Map(lambda record: record.split(','))\n",
        "    | 'Filtar partidas atrasadas' >> beam.Filter(lambda record: int(record[5]) > 0) \n",
        "    #| 'Filtar partidas apos ano 2014' >> beam.Filter(lambda record: int(record[9]) > 2014) \n",
        "    | 'Agregar as colunas' >> beam.Map(lambda record:(record[1],int(record[5])))\n",
        "    |'Cosntruir nova tabela' >> beam.combiners.Count.PerKey()\n",
        "    #| 'Filtrar por companhia' >> beam.Filter(lambda record: record[2] == 'CLT')  #função anonima procura no indice '1'(lista de coluna) mostra o restuado ca cia LAX \n",
        "    | 'Exibir o resultado ' >> beam.Map(print)\n",
        "    #| 'Salvar resultado' >>beam.io.WriteToText('saida.txt')\n",
        ")\n",
        "p1.run()"
      ],
      "metadata": {
        "id": "NIpT2FFVI-p8"
      },
      "execution_count": null,
      "outputs": []
    },
    {
      "cell_type": "markdown",
      "source": [
        "##Tres pipes na mesma execuçao\n",
        "\n"
      ],
      "metadata": {
        "id": "Pf4xLNT-TLfp"
      }
    },
    {
      "cell_type": "code",
      "source": [
        "import apache_beam as neam\n",
        "p1 = beam.Pipeline()\n",
        "qtd_atraso = (\n",
        "    p1\n",
        "    | 'Leitura do dataser' >> beam.io.ReadFromText('/content/voos1.csv', skip_header_lines=1) # \"1\" sem cabeçalho\n",
        "    | 'Separar por virgula, ou indicar o separador ' >> beam.Map(lambda record: record.split(','))\n",
        "    | 'Filtar Chegada atrasadas' >> beam.Filter(lambda record: float(record[8]) > 0) \n",
        "    | 'Agregar as colunas' >> beam.Map(lambda record:(record[1],float(record[8])))\n",
        "    |' Cosntruir nova tabela' >> beam.combiners.Count.PerKey()\n",
        "    #| 'Filtrar por companhia' >> beam.Filter(lambda record: record[2] == 'CLT')  #função anonima procura no indice '1'(lista de coluna) mostra o restuado ca cia LAX \n",
        "    #| 'Exibir o resultado ' >> beam.Map(print)\n",
        "    #| 'Salvar resultado' >>beam.io.WriteToText('saida.txt')\n",
        ")\n",
        "\n",
        "soma_atraso = (\n",
        "    p1\n",
        "    | 'extract do dataser' >> beam.io.ReadFromText('/content/voos1.csv', skip_header_lines=1) # \"1\" sem cabeçalho\n",
        "    | 'Separa por virgula, ou indicar o separador ' >> beam.Map(lambda record: record.split(','))\n",
        "    | 'Filtar chegada atrasadas' >> beam.Filter(lambda record: float(record[8]) > 0) \n",
        "    | 'Agurparr as colunas' >> beam.Map(lambda record:(record[1],float(record[8])))\n",
        "    |'12 Cosntruir nova tabela' >> beam.CombinePerKey(sum)\n",
        ")\n",
        "tabela = (\n",
        "    {'Qtd_atras':qtd_atraso,'Tempo_araso':soma_atraso}\n",
        "    |'Agrupar as pipes' >> beam.CoGroupByKey()\n",
        "    #|'Load final' >> beam.Map(print)\n",
        "    |'Salvar resultado' >>beam.io.WriteToText('tabela', file_name_suffix='.csv')# num_shards=2 numero de partes do arquivo\n",
        ")\n",
        "p1.run()\n"
      ],
      "metadata": {
        "colab": {
          "base_uri": "https://localhost:8080/"
        },
        "id": "ak8PnvwQKxPc",
        "outputId": "b7c8549c-b2ba-47c6-807d-6694df1f5e32"
      },
      "execution_count": null,
      "outputs": [
        {
          "output_type": "stream",
          "name": "stderr",
          "text": [
            "WARNING:root:Make sure that locally built Python SDK docker image has Python 3.7 interpreter.\n"
          ]
        },
        {
          "output_type": "execute_result",
          "data": {
            "text/plain": [
              "<apache_beam.runners.portability.fn_api_runner.fn_runner.RunnerResult at 0x7f230da1f290>"
            ]
          },
          "metadata": {},
          "execution_count": 65
        }
      ]
    },
    {
      "cell_type": "markdown",
      "source": [],
      "metadata": {
        "id": "_ORJoBwMKrV1"
      }
    },
    {
      "cell_type": "code",
      "source": [],
      "metadata": {
        "id": "FxV9B4LkKw-D"
      },
      "execution_count": null,
      "outputs": []
    },
    {
      "cell_type": "code",
      "source": [
        "#Qual companhia tem o melhor tempo de adiantamento na chegada\n",
        "#falta por em ordem\n",
        "import apache_beam as neam\n",
        "ppl1 = beam.Pipeline()\n",
        "cia_melhor_tempo = (\n",
        "    ppl1\n",
        "    | 'extract do dataser' >> beam.io.ReadFromText('/content/voos1.csv', skip_header_lines=1) # \"1\" sem cabeçalho\n",
        "    | 'Separa por virgula, ou indicar o separador ' >> beam.Map(lambda record: record.split(','))\n",
        "    | 'Filtar Chegada atrasadas' >> beam.Filter(lambda record: float(record[8]) > 0) \n",
        "    | 'Agregar as colunas' >> beam.Map(lambda record:(record[0],float(record[8])))\n",
        "    | '12 Cosntruir nova tabela' >> beam.CombinePerKey(sum)\n",
        "    | 'Load final' >> beam.Map(print)\n",
        ")\n",
        "ppl1.run()\n",
        "\n",
        "\n"
      ],
      "metadata": {
        "id": "tgd_B5vyhntz"
      },
      "execution_count": null,
      "outputs": []
    },
    {
      "cell_type": "code",
      "source": [
        "#Aeroporto de chegada mais adiantado saida\n",
        "#falta por em ordem\n",
        "#passar para contar as linhas OK\n",
        "import apache_beam as neam\n",
        "ppl2 = beam.Pipeline()\n",
        "cia_aeroporto_mais_adiantado = (\n",
        "    ppl2\n",
        "    | 'extract do dataser' >> beam.io.ReadFromText('/content/voos1.csv', skip_header_lines=1) # \"1\" sem cabeçalho\n",
        "    | 'Separa por virgula, ou indicar o separador ' >> beam.Map(lambda record: record.split(','))\n",
        "    | 'Filtar Chegada atrasadas' >> beam.Filter(lambda record: int(record[5]) < 0) \n",
        "    | 'Agregar as colunas' >> beam.Map(lambda record:(record[1],int(record[5])))\n",
        "    | '12 Cosntruir nova tabela' >> beam.combiners.Count.PerKey()\n",
        "    | 'Load final' >> beam.Map(print)\n",
        ")\n",
        "ppl2.run()"
      ],
      "metadata": {
        "id": "BGCFme_4k0vi"
      },
      "execution_count": null,
      "outputs": []
    },
    {
      "cell_type": "code",
      "source": [
        "#meses com mais adiantamento saida\n",
        "#falta por em ordem\n",
        "import apache_beam as neam\n",
        "ppl3 = beam.Pipeline()\n",
        "meses_mais_adiantados = (\n",
        "    ppl3\n",
        "    | 'extract do dataser' >> beam.io.ReadFromText('/content/voos1.csv', skip_header_lines=1) # \"1\" sem cabeçalho\n",
        "    | 'Separa por virgula, ou indicar o separador ' >> beam.Map(lambda record: record.split(','))\n",
        "    | 'Filtar Chegada atrasadas' >> beam.Filter(lambda record: int(record[5]) < 0) \n",
        "    | 'Agregar as colunas' >> beam.Map(lambda record:(record[10],int(record[5])))\n",
        "    | '12 Cosntruir nova tabela' >> beam.combiners.Count.PerKey()\n",
        "    | 'Load final' >> beam.Map(print)\n",
        ")\n",
        "ppl3.run()"
      ],
      "metadata": {
        "id": "A-PkH6LnlZOd"
      },
      "execution_count": null,
      "outputs": []
    },
    {
      "cell_type": "code",
      "source": [
        "#dias com mais adiantaento chegada\n",
        "#falta por em ordem\n",
        "import apache_beam as beam\n",
        "ppl4 = beam.Pipeline()\n",
        "dias_mais_adiantamentos = (\n",
        "    ppl4\n",
        "    | 'extract do dataser' >> beam.io.ReadFromText('/content/voos1.csv', skip_header_lines=1) # \"1\" sem cabeçalho\n",
        "    | 'Separa por virgula, ou indicar o separador ' >> beam.Map(lambda record: record.split(','))\n",
        "    | 'Filtar Chegada atrasadas' >> beam.Filter(lambda record: int(record[5]) < 0) \n",
        "    | 'Agregar as colunas' >> beam.Map(lambda record:(record[11],int(record[5])))\n",
        "    | '12 Cosntruir nova tabela' >> beam.combiners.Count.PerKey()\n",
        "    | 'Load final' >> beam.Map(print)\n",
        ")\n",
        "ppl4.run()"
      ],
      "metadata": {
        "id": "b2nM84B_l706"
      },
      "execution_count": null,
      "outputs": []
    },
    {
      "cell_type": "markdown",
      "source": [
        "Etendo colunas"
      ],
      "metadata": {
        "id": "Wt-1GEKJKs29"
      }
    },
    {
      "cell_type": "code",
      "source": [
        "import pandas as pd\n",
        "df = pd.read_csv(\"/content/voos1.csv\")\n",
        "df.head(5)"
      ],
      "metadata": {
        "id": "9TcBVlo5I-hV"
      },
      "execution_count": null,
      "outputs": []
    },
    {
      "cell_type": "code",
      "source": [
        "def sortGroupedData(row):\n",
        "    (keyNumber, sortData) = row\n",
        "    sortData.sort(key=lambda record: record[1], reverse=True)\n",
        "    return sortData[0:3]\n",
        "p1 = beam.Pipeline()\n",
        "\n",
        "voos = (\n",
        "    p1\n",
        "    |'Leitura do dataset'>> beam.io.ReadFromText('/content/voos1.csv',skip_header_lines=1)\n",
        "    |'Separar por virgula'>> beam.Map(lambda record: record.split(','))\n",
        "    |'Filtrar partida atrasada'>> beam.Filter(lambda record: int(record[5])>0)\n",
        "    |'Agregar as colunas'>>beam.Map(lambda record: (record[0],int(record[5])))\n",
        "    #|'construir nova tabela'>> beam.CombinePerKey(sum)\n",
        "    |'Exibir o resultado' >> beam.Map(sortGroupedData)\n",
        "    #|'Foi'>> beam.Map(print)\n",
        "    #|'Salvar resultado'>> beam.io.WriteToText('partatrasa.txt')\n",
        ")\n",
        "p1.run()"
      ],
      "metadata": {
        "id": "C3y1bztJbvwu"
      },
      "execution_count": null,
      "outputs": []
    },
    {
      "cell_type": "markdown",
      "source": [
        "##BEAM GCP"
      ],
      "metadata": {
        "id": "OlwqUG63KsjM"
      }
    },
    {
      "cell_type": "markdown",
      "source": [
        "Carregar \n",
        "Criando um job\n",
        "Google cloud\n",
        "Dataflow\n",
        "Criar job\n",
        "modelo do job\n",
        "arquio dedestino temporario\n",
        "#https://console.cloud.google.com/flows/enableapi?apiid=dataflow,compute_component,logging,storage_component,storage_api,bigquery,pubsub,datastore.googleapis.com,cloudresourcemanager.googleapis.com&_ga=2.189426155.1983962144.1622827940-955197899.1622719217&_gac=1.221249130.1622828282.Cj0KCQjwnueFBhChARIsAPu3YkSUzoSQn7RE14ObAE51mBY111345EEps_OAYCDz3smm2mLh2zjZ__8aAq9dEALw_wcB&wdLOR=cFAD8FEBF-3295-4A46-A7CC-2BD1857695D0"
      ],
      "metadata": {
        "id": "axNLY534nVMD"
      }
    },
    {
      "cell_type": "code",
      "source": [
        "#PipelineOptions,\n",
        "import apache_beam as beam\n",
        "import os\n",
        "from apache_beam.options.pipeline_options import PipelineOptions\n",
        "\n",
        "pipeline_options = {\n",
        "    'project':'modular-ethos-349116',\n",
        "    'runner':'DataflowRunner',\n",
        "    'region':'southamerica-east1',\n",
        "    'staging_location':'gs://ricardocorcini/staging',\n",
        "    'temp_location':'gs://ricardocorcini/staging',\n",
        "    'template_location':'gs://ricardocorcini/staging/models/modelo_bach_voos_v2'\n",
        "}\n",
        "\n",
        "\n",
        "serviceAccount = '/content/modular-ethos-349116-0a65fe05e380.json'\n",
        "os.environ[\"GOOGLE_APPLICATION_CREDENTIALS\"] = serviceAccount\n",
        "\n",
        "pipeline_options = PipelineOptions.from_dictionary(pipeline_options)\n",
        "p1 = beam.Pipeline(options=pipeline_options)\n",
        "\n",
        "#guardar link\n",
        "#https://console.cloud.google.com/flows/enableapi?apiid=dataflow,compute_component,logging,storage_component,storage_api,bigquery,pubsub,datastore.googleapis.com,cloudresourcemanager.googleapis.com&_ga=2.189426155.1983962144.1622827940-955197899.1622719217&_gac=1.221249130.1622828282.Cj0KCQjwnueFBhChARIsAPu3YkSUzoSQn7RE14ObAE51mBY111345EEps_OAYCDz3smm2mLh2zjZ__8aAq9dEALw_wcB&wdLOR=cFAD8FEBF-3295-4A46-A7CC-2BD1857695D0\n",
        "#import apache_beam as neam\n",
        "qtd_atraso = (\n",
        "    p1\n",
        "    | 'Leitura do dataser' >> beam.io.ReadFromText('gs://ricardocorcini/arqiovosoriginais/voos1.csv', skip_header_lines=1) # \"1\" sem cabeçalho\n",
        "    | 'Separar por virgula, ou indicar o separador ' >> beam.Map(lambda record: record.split(','))\n",
        "    | 'Filtar Chegada atrasadas' >> beam.Filter(lambda record: float(record[8]) > 0) \n",
        "    | 'Agregar as colunas' >> beam.Map(lambda record:(record[2],float(record[8])))\n",
        "    |' Cosntruir nova tabela' >> beam.combiners.Count.PerKey()\n",
        "    #| 'Filtrar por companhia' >> beam.Filter(lambda record: record[2] == 'CLT')  #função anonima procura no indice '1'(lista de coluna) mostra o restuado ca cia LAX \n",
        "    #| 'Exibir o resultado ' >> beam.Map(print)\n",
        "    #| 'Salvar resultado' >>beam.io.WriteToText('saida.txt')\n",
        ")\n",
        "\n",
        "soma_atraso = (\n",
        "    p1\n",
        "    | 'extract do dataser' >> beam.io.ReadFromText('gs://ricardocorcini/arqiovosoriginais/voos1.csv', skip_header_lines=1) # \"1\" sem cabeçalho\n",
        "    | 'Separa por virgula, ou indicar o separador ' >> beam.Map(lambda record: record.split(','))\n",
        "    | 'Filtar chegada atrasadas' >> beam.Filter(lambda record: float(record[8]) > 0) \n",
        "    | 'Agurparr as colunas' >> beam.Map(lambda record:(record[2],float(record[8])))\n",
        "    |'12 Cosntruir nova tabela' >> beam.CombinePerKey(sum)\n",
        ")\n",
        "tabela = (\n",
        "    {'Qtd_atras':qtd_atraso,'Tempo_araso':soma_atraso}\n",
        "    |'Agrupar as pipes' >> beam.CoGroupByKey()\n",
        "    #|'Load final' >> beam.Map(print)\n",
        "    |'Salvar resultado' >>beam.io.WriteToText(r'gs://ricardocorcini/arquivostratados/voos_saida', file_name_suffix='.csv')# num_shards=2 numero de partes do arquivo\n",
        ")\n",
        "p1.run()\n"
      ],
      "metadata": {
        "colab": {
          "base_uri": "https://localhost:8080/",
          "height": 124
        },
        "id": "bKU885vPNiVr",
        "outputId": "88be0332-c169-4d5b-f195-88e7cfe548f1"
      },
      "execution_count": null,
      "outputs": [
        {
          "output_type": "display_data",
          "data": {
            "text/plain": [
              "<IPython.core.display.HTML object>"
            ],
            "text/html": [
              "\n",
              "  <style>\n",
              "    div.alert {\n",
              "      white-space: pre-line;\n",
              "    }\n",
              "  </style>\n"
            ]
          },
          "metadata": {}
        },
        {
          "output_type": "display_data",
          "data": {
            "text/plain": [
              "<IPython.core.display.HTML object>"
            ],
            "text/html": [
              "\n",
              "            <link rel=\"stylesheet\" href=\"https://stackpath.bootstrapcdn.com/bootstrap/4.4.1/css/bootstrap.min.css\" integrity=\"sha384-Vkoo8x4CGsO3+Hhxv8T/Q5PaXtkKtu6ug5TOeNV6gBiFeWPGFN9MuhOf23Q9Ifjh\" crossorigin=\"anonymous\">\n",
              "            <div class=\"alert alert-info\">No cache_root detected. Defaulting to staging_location gs://ricardocorcini/staging for cache location.</div>"
            ]
          },
          "metadata": {}
        },
        {
          "output_type": "stream",
          "name": "stderr",
          "text": [
            "WARNING:root:Make sure that locally built Python SDK docker image has Python 3.7 interpreter.\n"
          ]
        },
        {
          "output_type": "execute_result",
          "data": {
            "text/plain": [
              "<DataflowPipelineResult None at 0x7f4d78299390>"
            ]
          },
          "metadata": {},
          "execution_count": 14
        }
      ]
    }
  ]
}